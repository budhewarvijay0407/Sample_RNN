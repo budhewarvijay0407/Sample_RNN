{
 "cells": [
  {
   "cell_type": "code",
   "execution_count": 66,
   "id": "fd058dc1",
   "metadata": {},
   "outputs": [],
   "source": [
    "import pandas as pd\n",
    "import numpy as np\n",
    "data=pd.read_excel(r'C:\\Users\\Rideema Malji\\Downloads\\SCHW\\SCHW.xlsx')"
   ]
  },
  {
   "cell_type": "code",
   "execution_count": 67,
   "id": "ba07f536",
   "metadata": {},
   "outputs": [],
   "source": [
    "data.datetime=pd.to_datetime(data.datetime)\n",
    "data.set_index('datetime',inplace=True)\n",
    "data.sort_index(inplace=True)"
   ]
  },
  {
   "cell_type": "code",
   "execution_count": 68,
   "id": "cc86b1d7",
   "metadata": {},
   "outputs": [
    {
     "data": {
      "text/html": [
       "<div>\n",
       "<style scoped>\n",
       "    .dataframe tbody tr th:only-of-type {\n",
       "        vertical-align: middle;\n",
       "    }\n",
       "\n",
       "    .dataframe tbody tr th {\n",
       "        vertical-align: top;\n",
       "    }\n",
       "\n",
       "    .dataframe thead th {\n",
       "        text-align: right;\n",
       "    }\n",
       "</style>\n",
       "<table border=\"1\" class=\"dataframe\">\n",
       "  <thead>\n",
       "    <tr style=\"text-align: right;\">\n",
       "      <th></th>\n",
       "      <th>aroon_down</th>\n",
       "      <th>aroon_up</th>\n",
       "      <th>minus_dm</th>\n",
       "      <th>mom</th>\n",
       "      <th>percent_b</th>\n",
       "      <th>plus_dm</th>\n",
       "      <th>roc</th>\n",
       "      <th>rocp</th>\n",
       "      <th>rsi</th>\n",
       "    </tr>\n",
       "    <tr>\n",
       "      <th>datetime</th>\n",
       "      <th></th>\n",
       "      <th></th>\n",
       "      <th></th>\n",
       "      <th></th>\n",
       "      <th></th>\n",
       "      <th></th>\n",
       "      <th></th>\n",
       "      <th></th>\n",
       "      <th></th>\n",
       "    </tr>\n",
       "  </thead>\n",
       "  <tbody>\n",
       "    <tr>\n",
       "      <th>2023-03-06 10:28:00</th>\n",
       "      <td>66.67</td>\n",
       "      <td>22.22</td>\n",
       "      <td>0.14</td>\n",
       "      <td>-0.02</td>\n",
       "      <td>0.55</td>\n",
       "      <td>0.16</td>\n",
       "      <td>-0.03</td>\n",
       "      <td>0.00</td>\n",
       "      <td>54.00</td>\n",
       "    </tr>\n",
       "    <tr>\n",
       "      <th>2023-03-06 10:29:00</th>\n",
       "      <td>55.56</td>\n",
       "      <td>11.11</td>\n",
       "      <td>0.12</td>\n",
       "      <td>-0.03</td>\n",
       "      <td>0.50</td>\n",
       "      <td>0.14</td>\n",
       "      <td>-0.04</td>\n",
       "      <td>0.00</td>\n",
       "      <td>52.03</td>\n",
       "    </tr>\n",
       "    <tr>\n",
       "      <th>2023-03-06 10:30:00</th>\n",
       "      <td>44.44</td>\n",
       "      <td>0.00</td>\n",
       "      <td>0.16</td>\n",
       "      <td>0.04</td>\n",
       "      <td>0.35</td>\n",
       "      <td>0.13</td>\n",
       "      <td>0.05</td>\n",
       "      <td>0.00</td>\n",
       "      <td>47.19</td>\n",
       "    </tr>\n",
       "    <tr>\n",
       "      <th>2023-03-06 10:31:00</th>\n",
       "      <td>33.33</td>\n",
       "      <td>55.56</td>\n",
       "      <td>0.18</td>\n",
       "      <td>-0.07</td>\n",
       "      <td>0.18</td>\n",
       "      <td>0.11</td>\n",
       "      <td>-0.09</td>\n",
       "      <td>0.00</td>\n",
       "      <td>42.02</td>\n",
       "    </tr>\n",
       "    <tr>\n",
       "      <th>2023-03-06 10:32:00</th>\n",
       "      <td>22.22</td>\n",
       "      <td>100.00</td>\n",
       "      <td>0.16</td>\n",
       "      <td>0.11</td>\n",
       "      <td>0.83</td>\n",
       "      <td>0.19</td>\n",
       "      <td>0.15</td>\n",
       "      <td>0.00</td>\n",
       "      <td>56.14</td>\n",
       "    </tr>\n",
       "    <tr>\n",
       "      <th>...</th>\n",
       "      <td>...</td>\n",
       "      <td>...</td>\n",
       "      <td>...</td>\n",
       "      <td>...</td>\n",
       "      <td>...</td>\n",
       "      <td>...</td>\n",
       "      <td>...</td>\n",
       "      <td>...</td>\n",
       "      <td>...</td>\n",
       "    </tr>\n",
       "    <tr>\n",
       "      <th>2023-03-22 15:55:00</th>\n",
       "      <td>77.78</td>\n",
       "      <td>33.33</td>\n",
       "      <td>0.47</td>\n",
       "      <td>-0.15</td>\n",
       "      <td>0.26</td>\n",
       "      <td>0.15</td>\n",
       "      <td>-0.27</td>\n",
       "      <td>0.00</td>\n",
       "      <td>37.08</td>\n",
       "    </tr>\n",
       "    <tr>\n",
       "      <th>2023-03-22 15:56:00</th>\n",
       "      <td>66.67</td>\n",
       "      <td>22.22</td>\n",
       "      <td>0.42</td>\n",
       "      <td>-0.19</td>\n",
       "      <td>0.29</td>\n",
       "      <td>0.18</td>\n",
       "      <td>-0.34</td>\n",
       "      <td>0.00</td>\n",
       "      <td>37.08</td>\n",
       "    </tr>\n",
       "    <tr>\n",
       "      <th>2023-03-22 15:57:00</th>\n",
       "      <td>55.56</td>\n",
       "      <td>11.11</td>\n",
       "      <td>0.37</td>\n",
       "      <td>-0.16</td>\n",
       "      <td>0.33</td>\n",
       "      <td>0.16</td>\n",
       "      <td>-0.28</td>\n",
       "      <td>0.00</td>\n",
       "      <td>38.28</td>\n",
       "    </tr>\n",
       "    <tr>\n",
       "      <th>2023-03-22 15:58:00</th>\n",
       "      <td>44.44</td>\n",
       "      <td>0.00</td>\n",
       "      <td>0.33</td>\n",
       "      <td>-0.29</td>\n",
       "      <td>0.29</td>\n",
       "      <td>0.15</td>\n",
       "      <td>-0.51</td>\n",
       "      <td>-0.01</td>\n",
       "      <td>35.95</td>\n",
       "    </tr>\n",
       "    <tr>\n",
       "      <th>2023-03-22 15:59:00</th>\n",
       "      <td>100.00</td>\n",
       "      <td>0.00</td>\n",
       "      <td>0.42</td>\n",
       "      <td>-0.31</td>\n",
       "      <td>0.04</td>\n",
       "      <td>0.13</td>\n",
       "      <td>-0.55</td>\n",
       "      <td>-0.01</td>\n",
       "      <td>27.73</td>\n",
       "    </tr>\n",
       "  </tbody>\n",
       "</table>\n",
       "<p>5000 rows × 9 columns</p>\n",
       "</div>"
      ],
      "text/plain": [
       "                     aroon_down  aroon_up  minus_dm   mom  percent_b  plus_dm  \\\n",
       "datetime                                                                        \n",
       "2023-03-06 10:28:00       66.67     22.22      0.14 -0.02       0.55     0.16   \n",
       "2023-03-06 10:29:00       55.56     11.11      0.12 -0.03       0.50     0.14   \n",
       "2023-03-06 10:30:00       44.44      0.00      0.16  0.04       0.35     0.13   \n",
       "2023-03-06 10:31:00       33.33     55.56      0.18 -0.07       0.18     0.11   \n",
       "2023-03-06 10:32:00       22.22    100.00      0.16  0.11       0.83     0.19   \n",
       "...                         ...       ...       ...   ...        ...      ...   \n",
       "2023-03-22 15:55:00       77.78     33.33      0.47 -0.15       0.26     0.15   \n",
       "2023-03-22 15:56:00       66.67     22.22      0.42 -0.19       0.29     0.18   \n",
       "2023-03-22 15:57:00       55.56     11.11      0.37 -0.16       0.33     0.16   \n",
       "2023-03-22 15:58:00       44.44      0.00      0.33 -0.29       0.29     0.15   \n",
       "2023-03-22 15:59:00      100.00      0.00      0.42 -0.31       0.04     0.13   \n",
       "\n",
       "                      roc  rocp    rsi  \n",
       "datetime                                \n",
       "2023-03-06 10:28:00 -0.03  0.00  54.00  \n",
       "2023-03-06 10:29:00 -0.04  0.00  52.03  \n",
       "2023-03-06 10:30:00  0.05  0.00  47.19  \n",
       "2023-03-06 10:31:00 -0.09  0.00  42.02  \n",
       "2023-03-06 10:32:00  0.15  0.00  56.14  \n",
       "...                   ...   ...    ...  \n",
       "2023-03-22 15:55:00 -0.27  0.00  37.08  \n",
       "2023-03-22 15:56:00 -0.34  0.00  37.08  \n",
       "2023-03-22 15:57:00 -0.28  0.00  38.28  \n",
       "2023-03-22 15:58:00 -0.51 -0.01  35.95  \n",
       "2023-03-22 15:59:00 -0.55 -0.01  27.73  \n",
       "\n",
       "[5000 rows x 9 columns]"
      ]
     },
     "execution_count": 68,
     "metadata": {},
     "output_type": "execute_result"
    }
   ],
   "source": [
    "data"
   ]
  },
  {
   "cell_type": "code",
   "execution_count": 141,
   "id": "cadfd3b7",
   "metadata": {},
   "outputs": [
    {
     "data": {
      "text/plain": [
       "<AxesSubplot:xlabel='datetime'>"
      ]
     },
     "execution_count": 141,
     "metadata": {},
     "output_type": "execute_result"
    },
    {
     "data": {
      "image/png": "[encoded data removed]",
      "text/plain": [
       "<Figure size 432x288 with 1 Axes>"
      ]
     },
     "metadata": {
      "needs_background": "light"
     },
     "output_type": "display_data"
    }
   ],
   "source": [
    "data[['rsi']].plot()"
   ]
  },
  {
   "cell_type": "code",
   "execution_count": 69,
   "id": "7ea925fc",
   "metadata": {},
   "outputs": [],
   "source": [
    "df=data[['rsi']].values"
   ]
  },
  {
   "cell_type": "code",
   "execution_count": 75,
   "id": "bdba0dd6",
   "metadata": {},
   "outputs": [
    {
     "data": {
      "text/plain": [
       "array([[54.  ],\n",
       "       [52.03],\n",
       "       [47.19],\n",
       "       [42.02],\n",
       "       [56.14],\n",
       "       [47.3 ],\n",
       "       [47.3 ],\n",
       "       [48.29],\n",
       "       [48.28],\n",
       "       [45.59]])"
      ]
     },
     "execution_count": 75,
     "metadata": {},
     "output_type": "execute_result"
    }
   ],
   "source": [
    "df[:10]"
   ]
  },
  {
   "cell_type": "code",
   "execution_count": 71,
   "id": "eb06c6ed",
   "metadata": {},
   "outputs": [],
   "source": [
    "train,test=df[:int(len(df)*.70),:],df[int(len(df)*.70):,:]"
   ]
  },
  {
   "cell_type": "code",
   "execution_count": 82,
   "id": "0e7c8824",
   "metadata": {},
   "outputs": [],
   "source": [
    "train=train.reshape(1,-1)[0]\n",
    "test=test.reshape(1,-1)[0]"
   ]
  },
  {
   "cell_type": "code",
   "execution_count": 129,
   "id": "c19ab01a",
   "metadata": {},
   "outputs": [],
   "source": [
    "def converttomatrix(data,step):\n",
    "    X,Y=[],[]\n",
    "    for i in range(len(data)-step):\n",
    "        d=i+step\n",
    "        X.append(data[i:d,])\n",
    "        Y.append(data[d,])\n",
    "    return(np.array(X),np.array(Y))"
   ]
  },
  {
   "cell_type": "code",
   "execution_count": 130,
   "id": "7e9826e0",
   "metadata": {},
   "outputs": [],
   "source": [
    "trainX,trainY=converttomatrix(train,5)\n",
    "testX,testY=converttomatrix(test,5)"
   ]
  },
  {
   "cell_type": "code",
   "execution_count": 131,
   "id": "72325672",
   "metadata": {},
   "outputs": [],
   "source": [
    "trainX=np.reshape(trainX,(trainX.shape[0],1,trainX.shape[1]))\n",
    "testX=np.reshape(testX,(testX.shape[0],1,testX.shape[1]))"
   ]
  },
  {
   "cell_type": "code",
   "execution_count": 132,
   "id": "5f92c320",
   "metadata": {},
   "outputs": [],
   "source": [
    "step=5"
   ]
  },
  {
   "cell_type": "code",
   "execution_count": 133,
   "id": "375e3cd7",
   "metadata": {},
   "outputs": [
    {
     "name": "stdout",
     "output_type": "stream",
     "text": [
      "Model: \"sequential_7\"\n",
      "_________________________________________________________________\n",
      " Layer (type)                Output Shape              Param #   \n",
      "=================================================================\n",
      " simple_rnn_6 (SimpleRNN)    (None, 32)                1216      \n",
      "                                                                 \n",
      " dense_7 (Dense)             (None, 8)                 264       \n",
      "                                                                 \n",
      " dense_8 (Dense)             (None, 2)                 18        \n",
      "                                                                 \n",
      "=================================================================\n",
      "Total params: 1,498\n",
      "Trainable params: 1,498\n",
      "Non-trainable params: 0\n",
      "_________________________________________________________________\n"
     ]
    }
   ],
   "source": [
    "import tensorflow as tf\n",
    "from tensorflow import keras\n",
    "from tensorflow.keras import layers\n",
    "\n",
    "model = keras.Sequential() #Dense(2)\n",
    "# Add an Embedding layer expecting input vocab of size 1000, and\n",
    "# output embedding dimension of size 64.\n",
    "model.add(layers.SimpleRNN(units=32, input_shape=(1,step),activation=\"relu\"))\n",
    "model.add(layers.Dense(8, activation=\"relu\"))\n",
    "# Add a RNN layer with 128 internal units.\n",
    "model.add(layers.Dense(2))\n",
    "# Add a Dense layer with 10 units.\n",
    "model.compile(loss='mean_squared_error',optimizer='rmsprop')\n",
    "model.summary()"
   ]
  },
  {
   "cell_type": "code",
   "execution_count": 134,
   "id": "26465562",
   "metadata": {},
   "outputs": [],
   "source": [
    "trainX = np.asarray(trainX).astype(np.float32)\n",
    "trainY = np.asarray(trainY).astype(np.float32)"
   ]
  },
  {
   "cell_type": "code",
   "execution_count": 135,
   "id": "77a4dfa0",
   "metadata": {},
   "outputs": [
    {
     "data": {
      "text/plain": [
       "array([47.3 , 47.3 , 48.29, ..., 10.03, 23.3 , 22.69], dtype=float32)"
      ]
     },
     "execution_count": 135,
     "metadata": {},
     "output_type": "execute_result"
    }
   ],
   "source": [
    "trainY"
   ]
  },
  {
   "cell_type": "code",
   "execution_count": 136,
   "id": "e812eeeb",
   "metadata": {},
   "outputs": [],
   "source": [
    "trainX = tf.convert_to_tensor(trainX)\n",
    "trainY = tf.convert_to_tensor(trainY)"
   ]
  },
  {
   "cell_type": "code",
   "execution_count": 152,
   "id": "0825a311",
   "metadata": {},
   "outputs": [
    {
     "data": {
      "text/plain": [
       "array([[[33.13, 29.24, 19.55, 23.13, 30.54]],\n",
       "\n",
       "       [[29.24, 19.55, 23.13, 30.54, 29.18]],\n",
       "\n",
       "       [[19.55, 23.13, 30.54, 29.18, 28.71]],\n",
       "\n",
       "       ...,\n",
       "\n",
       "       [[32.2 , 30.24, 31.8 , 37.08, 37.08]],\n",
       "\n",
       "       [[30.24, 31.8 , 37.08, 37.08, 38.28]],\n",
       "\n",
       "       [[31.8 , 37.08, 37.08, 38.28, 35.95]]])"
      ]
     },
     "execution_count": 152,
     "metadata": {},
     "output_type": "execute_result"
    }
   ],
   "source": [
    "testX"
   ]
  },
  {
   "cell_type": "code",
   "execution_count": 137,
   "id": "4097d21e",
   "metadata": {},
   "outputs": [
    {
     "name": "stdout",
     "output_type": "stream",
     "text": [
      "Epoch 1/50\n",
      "Epoch 2/50\n",
      "Epoch 3/50\n",
      "Epoch 4/50\n",
      "Epoch 5/50\n",
      "Epoch 6/50\n",
      "Epoch 7/50\n",
      "Epoch 8/50\n",
      "Epoch 9/50\n",
      "Epoch 10/50\n",
      "Epoch 11/50\n",
      "Epoch 12/50\n",
      "Epoch 13/50\n",
      "Epoch 14/50\n",
      "Epoch 15/50\n",
      "Epoch 16/50\n",
      "Epoch 17/50\n",
      "Epoch 18/50\n",
      "Epoch 19/50\n",
      "Epoch 20/50\n",
      "Epoch 21/50\n",
      "Epoch 22/50\n",
      "Epoch 23/50\n",
      "Epoch 24/50\n",
      "Epoch 25/50\n",
      "Epoch 26/50\n",
      "Epoch 27/50\n",
      "Epoch 28/50\n",
      "Epoch 29/50\n",
      "Epoch 30/50\n",
      "Epoch 31/50\n",
      "Epoch 32/50\n",
      "Epoch 33/50\n",
      "Epoch 34/50\n",
      "Epoch 35/50\n",
      "Epoch 36/50\n",
      "Epoch 37/50\n",
      "Epoch 38/50\n",
      "Epoch 39/50\n",
      "Epoch 40/50\n",
      "Epoch 41/50\n",
      "Epoch 42/50\n",
      "Epoch 43/50\n",
      "Epoch 44/50\n",
      "Epoch 45/50\n",
      "Epoch 46/50\n",
      "Epoch 47/50\n",
      "Epoch 48/50\n",
      "Epoch 49/50\n",
      "Epoch 50/50\n",
      "110/110 [==============================] - 0s 706us/step\n",
      "47/47 [==============================] - 0s 674us/step\n"
     ]
    }
   ],
   "source": [
    "model.fit(trainX,trainY,epochs=50,batch_size=12,verbose=11)\n",
    "#train_pred=model.predict(trainX)\n",
    "test_pred= model.predict(testX)"
   ]
  },
  {
   "cell_type": "code",
   "execution_count": 157,
   "id": "242f66db",
   "metadata": {},
   "outputs": [],
   "source": [
    "test_pred=test_pred[:,:1]"
   ]
  },
  {
   "cell_type": "code",
   "execution_count": 159,
   "id": "d30b3bde",
   "metadata": {},
   "outputs": [
    {
     "data": {
      "text/plain": [
       "[<matplotlib.lines.Line2D at 0x2677a8cefd0>]"
      ]
     },
     "execution_count": 159,
     "metadata": {},
     "output_type": "execute_result"
    },
    {
     "data": {
      "image/png": "[encoded data removed]",
      "text/plain": [
       "<Figure size 432x288 with 1 Axes>"
      ]
     },
     "metadata": {
      "needs_background": "light"
     },
     "output_type": "display_data"
    }
   ],
   "source": [
    "import matplotlib.pyplot as plt\n",
    "plt.plot(test_pred[:,:1])"
   ]
  },
  {
   "cell_type": "code",
   "execution_count": 169,
   "id": "6909f23e",
   "metadata": {},
   "outputs": [
    {
     "data": {
      "text/plain": [
       "[<matplotlib.lines.Line2D at 0x2677aaa8790>]"
      ]
     },
     "execution_count": 169,
     "metadata": {},
     "output_type": "execute_result"
    },
    {
     "data": {
      "image/png": "[encoded data removed]",
      "text/plain": [
       "<Figure size 432x288 with 1 Axes>"
      ]
     },
     "metadata": {
      "needs_background": "light"
     },
     "output_type": "display_data"
    }
   ],
   "source": [
    "plt.plot(np.arange(0,len(train)),train)\n",
    "plt.plot(np.arange(len(train),len(train)+len(test_pred[:,:1])),test_pred[:,:1])"
   ]
  },
  {
   "cell_type": "code",
   "execution_count": null,
   "id": "4b0b206b",
   "metadata": {},
   "outputs": [],
   "source": []
  }
 ],
 "metadata": {
  "kernelspec": {
   "display_name": "Python 3 (ipykernel)",
   "language": "python",
   "name": "python3"
  },
  "language_info": {
   "codemirror_mode": {
    "name": "ipython",
    "version": 3
   },
   "file_extension": ".py",
   "mimetype": "text/x-python",
   "name": "python",
   "nbconvert_exporter": "python",
   "pygments_lexer": "ipython3",
   "version": "3.9.12"
  }
 },
 "nbformat": 4,
 "nbformat_minor": 5
}
